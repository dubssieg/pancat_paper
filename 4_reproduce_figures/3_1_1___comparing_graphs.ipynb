{
 "cells": [
  {
   "cell_type": "code",
   "execution_count": null,
   "metadata": {},
   "outputs": [],
   "source": [
    "graph:str = '/path/to/graph.gfa'\n",
    "edition_file:str = '/path/to/edition_file.json'"
   ]
  },
  {
   "cell_type": "code",
   "execution_count": null,
   "metadata": {},
   "outputs": [],
   "source": [
    "# Imports\n",
    "from os import system\n",
    "from json import load\n",
    "from BubbleGun.Graph import Graph as BubbleGraph\n",
    "from BubbleGun.find_bubbles import find_bubbles"
   ]
  },
  {
   "cell_type": "markdown",
   "metadata": {},
   "source": [
    "Table 1. Informations about graph"
   ]
  },
  {
   "cell_type": "code",
   "execution_count": null,
   "metadata": {},
   "outputs": [],
   "source": [
    "# Compute the total size of the graph\n",
    "system(\"grep '^S' \"+graph+\" | awk '{sum+=length($3)} END{print sum}'\")"
   ]
  },
  {
   "cell_type": "code",
   "execution_count": null,
   "metadata": {},
   "outputs": [],
   "source": [
    "# Print line count statistics about the graph\n",
    "system(\"<\"+graph+\" sed 's/^\\(.\\).*/\\1/' | sort | uniq -c\")"
   ]
  },
  {
   "cell_type": "code",
   "execution_count": null,
   "metadata": {},
   "outputs": [],
   "source": [
    "# Print number of editions (JSON format)\n",
    "edition_file:str = 'temp/yeast_edit.json'\n",
    "\n",
    "editions:dict[str,list] = load(open(edition_file,'r',encoding='utf-8'))\n",
    "\n",
    "merge_count:int = 0\n",
    "split_count:int = 0\n",
    "for key,value in editions.items():\n",
    "    merge_count += len(value['merges'])\n",
    "    split_count += len(value['splits'])\n",
    "\n",
    "print(f\"Total merges: {merge_count}\")\n",
    "print(f\"Total splits: {split_count}\")   "
   ]
  },
  {
   "cell_type": "code",
   "execution_count": null,
   "metadata": {},
   "outputs": [],
   "source": [
    "edition_file:str = \"path/to/edition_file.tsv\"\n",
    "\n",
    "# Count lines with 'M' in the third field\n",
    "system(\"awk '$3 == \\\"M\\\"' \" + edition_file + \" | wc -l\")\n",
    "\n",
    "# Count lines with 'S' in the third field\n",
    "system(\"awk '$3 == \\\"S\\\"' \" + edition_file + \" | wc -l\")"
   ]
  },
  {
   "cell_type": "code",
   "execution_count": null,
   "metadata": {},
   "outputs": [],
   "source": [
    "# Print bubbles in the graph\n",
    "find_bubbles(bgraph := BubbleGraph(graph))\n",
    "\n",
    "print(f\"{len(bgraph.bubbles)} bubbles found\")"
   ]
  },
  {
   "cell_type": "code",
   "execution_count": null,
   "metadata": {},
   "outputs": [],
   "source": [
    "# Count number of variants in the graph\n",
    "variants:str = 'path/to/variants.vcf'\n",
    "\n",
    "system(\"grep '^#[^#]\\|^chr1[[:blank:]]' \"+variants+\" | wc -l\")"
   ]
  }
 ],
 "metadata": {
  "kernelspec": {
   "display_name": "dev",
   "language": "python",
   "name": "python3"
  },
  "language_info": {
   "name": "python",
   "version": "3.11.3"
  }
 },
 "nbformat": 4,
 "nbformat_minor": 2
}
